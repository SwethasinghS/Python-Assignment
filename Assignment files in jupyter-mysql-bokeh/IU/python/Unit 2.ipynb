{
 "cells": [
  {
   "cell_type": "code",
   "execution_count": 5,
   "id": "47cf0b2a",
   "metadata": {},
   "outputs": [],
   "source": [
    "def scope_testing():\n",
    "    def local_scope():\n",
    "        spam=\"local spam defined\"\n",
    "        def nonlocal_scope():\n",
    "            spam=\"nonlocal spam defined\"\n",
    "            def global_scope():\n",
    "                spam=\"gloabl spam defined\"            \n",
    "            spam=\"testing the spam\"\n",
    "            local_scope()\n",
    "            print(\"After local scope tes:\",spam)\n",
    "            nonlocal_scope()\n",
    "            print(\"After nonlocal scope test:\",spam)\n",
    "            global_scope()\n",
    "            print(\"After global scope test:\",spam)\n",
    "def main():\n",
    "    scope_testing()\n",
    "    print(\"In global scope:\",spam)\n",
    "if __name__ == '_main_' : main()    "
   ]
  },
  {
   "cell_type": "code",
   "execution_count": 3,
   "id": "0890fbfc",
   "metadata": {},
   "outputs": [
    {
     "ename": "NameError",
     "evalue": "name 'first_name' is not defined",
     "output_type": "error",
     "traceback": [
      "\u001b[0;31m---------------------------------------------------------------------------\u001b[0m",
      "\u001b[0;31mNameError\u001b[0m                                 Traceback (most recent call last)",
      "\u001b[0;32m/var/folders/sx/ctj9r67x4gq00zhbkkt8f72c0000gn/T/ipykernel_1205/3075168562.py\u001b[0m in \u001b[0;36m<module>\u001b[0;34m\u001b[0m\n\u001b[1;32m     20\u001b[0m         \u001b[0mprint\u001b[0m\u001b[0;34m(\u001b[0m\u001b[0;34m\"Customer \"\u001b[0m \u001b[0;34m+\u001b[0m \u001b[0mself\u001b[0m\u001b[0;34m.\u001b[0m\u001b[0mfirst_name\u001b[0m \u001b[0;34m+\u001b[0m \u001b[0;34m\" \"\u001b[0m \u001b[0;34m+\u001b[0m \u001b[0mself\u001b[0m\u001b[0;34m.\u001b[0m\u001b[0mlast_name\u001b[0m \u001b[0;34m+\u001b[0m \u001b[0;34m\" phone is: \"\u001b[0m \u001b[0;34m+\u001b[0m \u001b[0mcustomer_phone\u001b[0m\u001b[0;34m)\u001b[0m\u001b[0;34m\u001b[0m\u001b[0;34m\u001b[0m\u001b[0m\n\u001b[1;32m     21\u001b[0m \u001b[0;32mdef\u001b[0m \u001b[0mis_employee\u001b[0m\u001b[0;34m(\u001b[0m\u001b[0mself\u001b[0m\u001b[0;34m)\u001b[0m\u001b[0;34m:\u001b[0m \u001b[0;32mreturn\u001b[0m \u001b[0;32mFalse\u001b[0m\u001b[0;34m\u001b[0m\u001b[0;34m\u001b[0m\u001b[0m\n\u001b[0;32m---> 22\u001b[0;31m \u001b[0memployee_class\u001b[0m \u001b[0;34m=\u001b[0m \u001b[0mEmployeeClass\u001b[0m\u001b[0;34m(\u001b[0m\u001b[0mfirst_name\u001b[0m\u001b[0;34m,\u001b[0m \u001b[0mlast_name\u001b[0m\u001b[0;34m)\u001b[0m\u001b[0;34m\u001b[0m\u001b[0;34m\u001b[0m\u001b[0m\n\u001b[0m\u001b[1;32m     23\u001b[0m \u001b[0mperson_type\u001b[0m \u001b[0;34m=\u001b[0m \u001b[0;34m\"employee\"\u001b[0m\u001b[0;34m\u001b[0m\u001b[0;34m\u001b[0m\u001b[0m\n\u001b[1;32m     24\u001b[0m \u001b[0memployee_class\u001b[0m\u001b[0;34m.\u001b[0m\u001b[0mprint_name\u001b[0m\u001b[0;34m(\u001b[0m\u001b[0mperson_type\u001b[0m\u001b[0;34m)\u001b[0m\u001b[0;34m\u001b[0m\u001b[0;34m\u001b[0m\u001b[0m\n",
      "\u001b[0;31mNameError\u001b[0m: name 'first_name' is not defined"
     ]
    }
   ],
   "source": [
    "class PersonClass(object):\n",
    "    def __init__(self, first_name, last_name): \n",
    "        self.first_name = first_name \n",
    "        self.last_name = last_name\n",
    "    def print_name(self, person_type):\n",
    "        print(\"The \" + person_type + \" name is: \" + self.first_name + \" \"+ self.last_name)\n",
    "    def get_name_email(self, email):\n",
    "        name_email = (\"The email of \" + self.first_name + \" \"+ self.last_name + \" is: \" + email) \n",
    "        return name_email\n",
    "    def is_employee(self): return True\n",
    "class EmployeeClass(PersonClass):\n",
    "    def init (self, first_name, last_name): super(). __init__ (first_name, last_name)\n",
    "    def print_employee_id(self, id):\n",
    "            print(\"Employee \" + self.first_name + \" \" + self.last_name + \" id is: \" + str(id))\n",
    "    def is_employee(self): return True\n",
    "class CustomerClass(PersonClass):\n",
    "    def init (self, first_name, last_name):\n",
    "         super(). init (first_name, last_name)\n",
    "    def print_customer_phone(self, customer_phone):\n",
    "        print(\"Customer \" + self.first_name + \" \" + self.last_name + \" phone is: \" + customer_phone)\n",
    "def is_employee(self): return False\n",
    "employee_class = EmployeeClass(first_name, last_name) \n",
    "person_type = \"employee\" \n",
    "employee_class.print_name(person_type)\n",
    "\n",
    "employee_id = 100 \n",
    "employee_class.print_employee_id(employee_id)\n",
    "\n",
    "customer_class = CustomerClass(first_name, last_name) \n",
    "person_type = \"customer\" \n",
    "customer_class.print_name(person_type)\n",
    "\n",
    "customer_phone = \"+1.800.503.987.6543\"\n",
    "customer_class.print_customer_phone(customer_phone)\n"
   ]
  },
  {
   "cell_type": "code",
   "execution_count": 6,
   "id": "b687eaaf",
   "metadata": {},
   "outputs": [],
   "source": [
    "def scope_testing():\n",
    "    def local_scope():\n",
    "        spam=\"local spam defined\"\n",
    "        def nonlocal_scope():\n",
    "            spam=\"nonlocal spam defined\"\n",
    "            def global_scope():\n",
    "                spam=\"gloabl spam defined\"            \n",
    "            spam=\"testing the spam\"\n",
    "            local_scope()\n",
    "            print(\"After local scope tes:\",spam)\n",
    "            nonlocal_scope()\n",
    "            print(\"After nonlocal scope test:\",spam)\n",
    "            global_scope()\n",
    "            print(\"After global scope test:\",spam)\n",
    "def main():\n",
    "    scope_testing()\n",
    "    print(\"In global scope:\",spam)\n",
    "if __name__ == '_main_' : main()"
   ]
  },
  {
   "cell_type": "code",
   "execution_count": 8,
   "id": "aa1542cc",
   "metadata": {},
   "outputs": [],
   "source": [
    "def scope_testing():\n",
    "    def local_scope():\n",
    "        spam=\"local spam defined\"\n",
    "        def nonlocal_scope():\n",
    "            spam=\"nonlocal spam defined\"\n",
    "        local_scope()\n",
    "        print(\"After local scope tes:\",spam)\n",
    "        nonlocal_scope()\n",
    "        print(\"After nonlocal scope test:\",spam)"
   ]
  },
  {
   "cell_type": "code",
   "execution_count": null,
   "id": "4fdd3c63",
   "metadata": {},
   "outputs": [],
   "source": []
  }
 ],
 "metadata": {
  "kernelspec": {
   "display_name": "Python 3 (ipykernel)",
   "language": "python",
   "name": "python3"
  },
  "language_info": {
   "codemirror_mode": {
    "name": "ipython",
    "version": 3
   },
   "file_extension": ".py",
   "mimetype": "text/x-python",
   "name": "python",
   "nbconvert_exporter": "python",
   "pygments_lexer": "ipython3",
   "version": "3.9.13"
  }
 },
 "nbformat": 4,
 "nbformat_minor": 5
}
