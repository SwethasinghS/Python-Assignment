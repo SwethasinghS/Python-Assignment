{
 "cells": [
  {
   "cell_type": "code",
   "execution_count": 10,
   "id": "33f0166a",
   "metadata": {},
   "outputs": [
    {
     "ename": "IndentationError",
     "evalue": "unexpected indent (1946548017.py, line 9)",
     "output_type": "error",
     "traceback": [
      "\u001b[0;36m  File \u001b[0;32m\"/var/folders/sx/ctj9r67x4gq00zhbkkt8f72c0000gn/T/ipykernel_1683/1946548017.py\"\u001b[0;36m, line \u001b[0;32m9\u001b[0m\n\u001b[0;31m    local_scope()\u001b[0m\n\u001b[0m    ^\u001b[0m\n\u001b[0;31mIndentationError\u001b[0m\u001b[0;31m:\u001b[0m unexpected indent\n"
     ]
    }
   ],
   "source": [
    "def scope_testing():\n",
    "    def local_scope():\n",
    "        spam=\"local spam defined\"\n",
    "        def nonlocal_scope():\n",
    "            spam=\"nonlocal spam defined\" \n",
    "            def global_scope():\n",
    "                spam=\"gloabl spam defined\" \n",
    "spam=\"testing the spam\"\n",
    "            local_scope()\n",
    "            print(\"After local scope tes:\",spam)\n",
    "            nonlocal_scope()\n",
    "            print(\"After nonlocal scope test:\",spam)\n",
    "            global_scope()\n",
    "            print(\"After global scope test:\",spam)\n",
    "    \n",
    "        \n",
    "def main():\n",
    "    scope_testing()\n",
    "    print(\"In global scope:\",spam)\n",
    "if __name__ == '_main_' : main()"
   ]
  },
  {
   "cell_type": "code",
   "execution_count": null,
   "id": "12e98cdc",
   "metadata": {},
   "outputs": [],
   "source": []
  },
  {
   "cell_type": "code",
   "execution_count": null,
   "id": "8279eb20",
   "metadata": {},
   "outputs": [],
   "source": []
  }
 ],
 "metadata": {
  "kernelspec": {
   "display_name": "Python 3 (ipykernel)",
   "language": "python",
   "name": "python3"
  },
  "language_info": {
   "codemirror_mode": {
    "name": "ipython",
    "version": 3
   },
   "file_extension": ".py",
   "mimetype": "text/x-python",
   "name": "python",
   "nbconvert_exporter": "python",
   "pygments_lexer": "ipython3",
   "version": "3.9.13"
  }
 },
 "nbformat": 4,
 "nbformat_minor": 5
}
