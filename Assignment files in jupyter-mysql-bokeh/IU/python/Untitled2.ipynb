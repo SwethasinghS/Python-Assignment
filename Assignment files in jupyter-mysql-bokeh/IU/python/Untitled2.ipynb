{
 "cells": [
  {
   "cell_type": "code",
   "execution_count": 1,
   "id": "e1fd584d",
   "metadata": {},
   "outputs": [
    {
     "name": "stdout",
     "output_type": "stream",
     "text": [
      "Java Script\n",
      "Python\n",
      "C++\n",
      "PHP\n",
      "Ruby\n",
      "Pearl\n",
      "C\n",
      "Julia\n",
      "Go\n",
      "R\n",
      "C#\n",
      "Java\n"
     ]
    }
   ],
   "source": [
    "programming_language=[\"Java Script\",\"Python\",\"C++\",\"PHP\",\"Ruby\",\"Pearl\",\"C\",\"Julia\",\"Go\",\"R\",\"C#\",\"Java\"]\n",
    "for item in programming_language:\n",
    "    print(item)    "
   ]
  },
  {
   "cell_type": "code",
   "execution_count": 2,
   "id": "703c25b5",
   "metadata": {},
   "outputs": [
    {
     "name": "stdout",
     "output_type": "stream",
     "text": [
      "1\n",
      "2\n",
      "3\n",
      "4\n",
      "5\n"
     ]
    },
    {
     "ename": "StopIteration",
     "evalue": "",
     "output_type": "error",
     "traceback": [
      "\u001b[0;31m---------------------------------------------------------------------------\u001b[0m",
      "\u001b[0;31mStopIteration\u001b[0m                             Traceback (most recent call last)",
      "\u001b[0;32m/var/folders/sx/ctj9r67x4gq00zhbkkt8f72c0000gn/T/ipykernel_1310/2675730948.py\u001b[0m in \u001b[0;36m<module>\u001b[0;34m\u001b[0m\n\u001b[1;32m      6\u001b[0m \u001b[0mprint\u001b[0m\u001b[0;34m(\u001b[0m\u001b[0mnext\u001b[0m\u001b[0;34m(\u001b[0m\u001b[0mnumber_list_iter\u001b[0m\u001b[0;34m)\u001b[0m\u001b[0;34m)\u001b[0m\u001b[0;34m\u001b[0m\u001b[0;34m\u001b[0m\u001b[0m\n\u001b[1;32m      7\u001b[0m \u001b[0mprint\u001b[0m\u001b[0;34m(\u001b[0m\u001b[0mnext\u001b[0m\u001b[0;34m(\u001b[0m\u001b[0mnumber_list_iter\u001b[0m\u001b[0;34m)\u001b[0m\u001b[0;34m)\u001b[0m\u001b[0;34m\u001b[0m\u001b[0;34m\u001b[0m\u001b[0m\n\u001b[0;32m----> 8\u001b[0;31m \u001b[0mprint\u001b[0m\u001b[0;34m(\u001b[0m\u001b[0mnext\u001b[0m\u001b[0;34m(\u001b[0m\u001b[0mnumber_list_iter\u001b[0m\u001b[0;34m)\u001b[0m\u001b[0;34m)\u001b[0m\u001b[0;34m\u001b[0m\u001b[0;34m\u001b[0m\u001b[0m\n\u001b[0m",
      "\u001b[0;31mStopIteration\u001b[0m: "
     ]
    }
   ],
   "source": [
    "number_list=[1,2,3,4,5]\n",
    "number_list_iter=iter(number_list)\n",
    "print(next(number_list_iter))\n",
    "print(next(number_list_iter))\n",
    "print(next(number_list_iter))\n",
    "print(next(number_list_iter))\n",
    "print(next(number_list_iter))\n",
    "print(next(number_list_iter))"
   ]
  },
  {
   "cell_type": "code",
   "execution_count": 4,
   "id": "330ac867",
   "metadata": {},
   "outputs": [],
   "source": [
    "def sequence_number_generator(low,high):\n",
    "    while low <= high:\n",
    "        yield low\n",
    "        low += 1\n",
    "        number_list=[]\n",
    "    for number in sequence_number_generator(0,5):\n",
    "        number_list.append(number)\n",
    "        print(number_list)"
   ]
  },
  {
   "cell_type": "code",
   "execution_count": 5,
   "id": "082f2f00",
   "metadata": {},
   "outputs": [
    {
     "name": "stdout",
     "output_type": "stream",
     "text": [
      "3.0\n",
      "4.0\n",
      "5.0\n",
      "6.0\n",
      "7.0\n",
      "8.0\n"
     ]
    }
   ],
   "source": [
    "from itertools import count\n",
    "sequence = count(start=2.5, step=0.5)\n",
    "while(next(sequence) <=8 ):\n",
    "    print(next(sequence))"
   ]
  },
  {
   "cell_type": "code",
   "execution_count": 7,
   "id": "78398f73",
   "metadata": {},
   "outputs": [
    {
     "name": "stdout",
     "output_type": "stream",
     "text": [
      "Employee\n",
      "Customer\n",
      "Employee\n",
      "Customer\n",
      "Employee\n",
      "Customer\n"
     ]
    }
   ],
   "source": [
    "from itertools import cycle\n",
    "person = cycle([\"Employee\",\"Customer\"])\n",
    "count=0\n",
    "while(count != 6):\n",
    "    print(next(person))\n",
    "    count +=1"
   ]
  },
  {
   "cell_type": "code",
   "execution_count": 8,
   "id": "697aea66",
   "metadata": {},
   "outputs": [
    {
     "name": "stdout",
     "output_type": "stream",
     "text": [
      "1000\n",
      "1000\n",
      "1000\n"
     ]
    }
   ],
   "source": [
    "from itertools import repeat\n",
    "person=repeat(object=1000,times=3)\n",
    "count=0\n",
    "while(count != 3):\n",
    "    print(next(person))\n",
    "    count += 1"
   ]
  },
  {
   "cell_type": "code",
   "execution_count": 9,
   "id": "d89696ec",
   "metadata": {},
   "outputs": [],
   "source": [
    "def division_by_zero():\n",
    "    try:\n",
    "        division_by_zero = 1/0 \n",
    "    except:\n",
    "        exception_type, exception_value, exception_traceback = sys.exc_info()\n",
    "        print(\"Exception Type : {} \\ n Exception Value:{}\".format(exception_type,exception_value))\n",
    "        file_name, line_number, procedure_name, line_code = traceback.extract_tb(exception_traceback) [-1]\n",
    "        print(\"File Name:{}\\n Line Number: {}\\nProcedure Name :{}\\n Line Code: {}\".format(file_name,line_number,procedure_name,line_code))\n",
    "    finally:\n",
    "        pass\n",
    "def main():\n",
    "    division_by_zero()\n",
    "if __name__ == '_main_' : main()    "
   ]
  },
  {
   "cell_type": "code",
   "execution_count": null,
   "id": "4833bffd",
   "metadata": {},
   "outputs": [],
   "source": []
  }
 ],
 "metadata": {
  "kernelspec": {
   "display_name": "Python 3 (ipykernel)",
   "language": "python",
   "name": "python3"
  },
  "language_info": {
   "codemirror_mode": {
    "name": "ipython",
    "version": 3
   },
   "file_extension": ".py",
   "mimetype": "text/x-python",
   "name": "python",
   "nbconvert_exporter": "python",
   "pygments_lexer": "ipython3",
   "version": "3.9.13"
  }
 },
 "nbformat": 4,
 "nbformat_minor": 5
}
