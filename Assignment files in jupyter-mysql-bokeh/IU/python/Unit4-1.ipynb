{
 "cells": [
  {
   "cell_type": "code",
   "execution_count": 1,
   "id": "5a78c55a",
   "metadata": {},
   "outputs": [
    {
     "name": "stdout",
     "output_type": "stream",
     "text": [
      "pandas version: 1.4.4\n",
      "0    1.956837\n",
      "1   -1.369439\n",
      "2   -0.459179\n",
      "3   -0.699895\n",
      "4   -0.306824\n",
      "dtype: float64\n"
     ]
    }
   ],
   "source": [
    "import numpy as np\n",
    "import pandas as pd\n",
    "def main():\n",
    "    print(\"pandas version: {}\".format(pd.__version__))\n",
    "# randn(): return a sample (or samples) from the standard normal distribution\n",
    "    s_data = pd.Series(np.random.randn(5))\n",
    "    print(s_data)\n",
    "if __name__ == '__main__': main()"
   ]
  },
  {
   "cell_type": "code",
   "execution_count": 2,
   "id": "10976ce4",
   "metadata": {},
   "outputs": [
    {
     "name": "stdout",
     "output_type": "stream",
     "text": [
      "      col 1  col 2   col 3\n",
      "row1    1.0      6     uno\n",
      "row2    2.0      7     dos\n",
      "row3    3.0      8    tres\n",
      "row4    4.0      9  cuatro\n",
      "row5    5.0     10   cinco\n"
     ]
    }
   ],
   "source": [
    "import numpy as np\n",
    "import pandas as pd\n",
    "def main():\n",
    "# create a dataframe from a dictionary\n",
    "    dictionary = {\"col 1\":[1., 2., 3., 4., 5.], \"col 2\":[6, 7, 8, 9, 10],\n",
    "                \"col 3\":[\"uno\", \"dos\", \"tres\", \"cuatro\", \"cinco\"]}\n",
    "    df_data = pd.DataFrame(data=dictionary,index=[\"row1\",\"row2\",\"row3\",\"row4\",\"row5\"])\n",
    "    print(df_data)\n",
    "if __name__ == '__main__': main()"
   ]
  },
  {
   "cell_type": "code",
   "execution_count": 3,
   "id": "4c680302",
   "metadata": {},
   "outputs": [
    {
     "name": "stdout",
     "output_type": "stream",
     "text": [
      "Writing complete\n"
     ]
    }
   ],
   "source": [
    "import csv    \n",
    "     \n",
    "with open('Python.csv', 'w') as csvfile:    \n",
    "    fieldnames = ['first_name', 'last_name', 'Rank']    \n",
    "    writer = csv.DictWriter(csvfile, fieldnames=fieldnames)    \n",
    "     \n",
    "    writer.writeheader()    \n",
    "    writer.writerow({'Rank': 'B', 'first_name': 'Parker', 'last_name': 'Brian'})    \n",
    "    writer.writerow({'Rank': 'A', 'first_name': 'Smith',    \n",
    "                     'last_name': 'Rodriguez'})    \n",
    "    writer.writerow({'Rank': 'B', 'first_name': 'Jane', 'last_name': 'Oscar'})    \n",
    "    writer.writerow({'Rank': 'B', 'first_name': 'Jane', 'last_name': 'Loive'})    \n",
    "     \n",
    "print(\"Writing complete\")"
   ]
  },
  {
   "cell_type": "code",
   "execution_count": 4,
   "id": "bde6e37d",
   "metadata": {},
   "outputs": [
    {
     "name": "stdout",
     "output_type": "stream",
     "text": [
      "  first_name  last_name Rank\n",
      "0     Parker      Brian    B\n",
      "1      Smith  Rodriguez    A\n",
      "2       Jane      Oscar    B\n",
      "3       Jane      Loive    B\n"
     ]
    }
   ],
   "source": [
    "import pandas as pd\n",
    "def main():\n",
    "    df_input_file = pd.read_csv(filepath_or_buffer=\"Python.csv\")\n",
    "    print(df_input_file)\n",
    "if __name__ == '__main__':main()"
   ]
  },
  {
   "cell_type": "code",
   "execution_count": 14,
   "id": "3b5ee2ce",
   "metadata": {},
   "outputs": [
    {
     "ename": "ModuleNotFoundError",
     "evalue": "No module named 'config'",
     "output_type": "error",
     "traceback": [
      "\u001b[0;31m---------------------------------------------------------------------------\u001b[0m",
      "\u001b[0;31mModuleNotFoundError\u001b[0m                       Traceback (most recent call last)",
      "\u001b[0;32m/var/folders/sx/ctj9r67x4gq00zhbkkt8f72c0000gn/T/ipykernel_9911/3539720146.py\u001b[0m in \u001b[0;36m<module>\u001b[0;34m\u001b[0m\n\u001b[1;32m      4\u001b[0m \u001b[0;32mimport\u001b[0m \u001b[0mpandas\u001b[0m \u001b[0;32mas\u001b[0m \u001b[0mpd\u001b[0m\u001b[0;34m\u001b[0m\u001b[0;34m\u001b[0m\u001b[0m\n\u001b[1;32m      5\u001b[0m \u001b[0;32mimport\u001b[0m \u001b[0mnumpy\u001b[0m \u001b[0;32mas\u001b[0m \u001b[0mnp\u001b[0m\u001b[0;34m\u001b[0m\u001b[0;34m\u001b[0m\u001b[0m\n\u001b[0;32m----> 6\u001b[0;31m \u001b[0;32mimport\u001b[0m \u001b[0mconfig\u001b[0m\u001b[0;34m\u001b[0m\u001b[0;34m\u001b[0m\u001b[0m\n\u001b[0m\u001b[1;32m      7\u001b[0m \u001b[0;32mdef\u001b[0m \u001b[0mmain\u001b[0m\u001b[0;34m(\u001b[0m\u001b[0;34m)\u001b[0m\u001b[0;34m:\u001b[0m\u001b[0;34m\u001b[0m\u001b[0;34m\u001b[0m\u001b[0m\n\u001b[1;32m      8\u001b[0m     \u001b[0mprint\u001b[0m\u001b[0;34m(\u001b[0m\u001b[0;34m\"using pandas library for data manipulation and cleansing:\"\u001b[0m\u001b[0;34m)\u001b[0m\u001b[0;34m\u001b[0m\u001b[0;34m\u001b[0m\u001b[0m\n",
      "\u001b[0;31mModuleNotFoundError\u001b[0m: No module named 'config'"
     ]
    }
   ],
   "source": [
    "import os\n",
    "import sys\n",
    "import datetime\n",
    "import pandas as pd\n",
    "import numpy as np\n",
    "import config\n",
    "def main():\n",
    "    print(\"using pandas library for data manipulation and cleansing:\")\n",
    "    print()\n",
    "    project_directory_path = os.path.dirname(sys.argv[0])\n",
    "    print(\"project directory path:\")\n",
    "    print(project_directory_path)\n",
    "    print()\n",
    "    input_file_path = os.path.join(project_directory_path,\n",
    "    config.INPUT_FILE_PATH)\n",
    "    print(\"input file path:\")\n",
    "    print(input_file_path)\n",
    "    print()\n",
    "    output_file_path = os.path.join(project_directory_path,\n",
    "    config.OUTPUT_FILE_PATH)\n",
    "    print(\"output file path:\")\n",
    "    print(output_file_path)\n",
    "    print()\n",
    "    df_input_file = pd.read_csv(filepath_or_buffer=input_file_path, sep=\",\",\n",
    "    encoding=\"latin1\")\n",
    "    print(\"pandas data frame for input file:\")\n",
    "    print(df_input_file)\n",
    "    print()\n",
    "    print(\"number of rows and columns:\")\n",
    "    print(df_input_file.shape)\n",
    "    print()\n",
    "    print(\"file information:\")\n",
    "    df_input_file.info()\n",
    "    print()\n",
    "    print(\"summary descriptive stats for numerical columns:\")\n",
    "    print(df_input_file.describe())\n",
    "    print()\n",
    "    df_result = df_input_file[\"four\"].value_counts()\n",
    "    print(\"frequency distribution for categorical column four:\")\n",
    "    print(df_result)\n",
    "    print()\n",
    "    df_result = df_input_file[\"eight\"].value_counts()\n",
    "    print(\"frequency distribution for categorical column eight:\")\n",
    "    print(df_result)\n",
    "    print()\n",
    "    df_result = df_input_file.apply(lambda x: sum(x.isnull()), axis=0)\n",
    "    print(\"missing values (nan) by columns:\")\n",
    "    print(df_result)\n",
    "    print()\n",
    "    df_result = df_input_file.duplicated()\n",
    "    print(\"duplicated rows:\")\n",
    "    print(df_result)\n",
    "    print()\n",
    "    df_input_file = df_input_file.drop_duplicates(keep=\"first\")\n",
    "    print(\"drop duplicated rows and keep the first:\")\n",
    "    print(df_input_file)\n",
    "    print()\n",
    "    df_input_file = df_input_file.fillna(df_input_file.mean()[\"one\":\"two\"])\n",
    "    print(\"replace nan values with the mean value in columns one and two:\")\n",
    "    print(df_input_file)\n",
    "    print()\n",
    "    df_input_file = df_input_file.fillna(df_input_file.median()[:\"three\"])\n",
    "    print(\"replace nan values with the median value in column three:\")\n",
    "    print(df_input_file)\n",
    "    print()\n",
    "    df_input_file[\"four\"] = df_input_file[\"four\"].fillna(\"club\")\n",
    "    print(\"replace nan values with the 'club' string in column four:\")\n",
    "    print(df_input_file)\n",
    "    print()\n",
    "    df_input_file[\"five\"] = df_input_file[\"five\"].fillna(True)\n",
    "    print(\"replace nan values with the true boolean in column five:\")\n",
    "    print(df_input_file)\n",
    "    print()\n",
    "    now = datetime.datetime.now().strftime(\"%m/%d/%Y\")\n",
    "    df_input_file[\"six\"] = df_input_file[\"six\"].fillna(str(now))\n",
    "    df_input_file[\"six\"] = pd.to_datetime(df_input_file[\"six\"])\n",
    "    print(\"replace nan values with the current date in column six:\")\n",
    "    print(df_input_file)\n",
    "    print()\n",
    "    df_input_file[\"seven\"] = df_input_file[\"seven\"].fillna(\"£0.0\")\n",
    "    print(\"replace nan values with the £0.0 in column seven:\")\n",
    "    print(df_input_file)\n",
    "    print()\n",
    "    df_input_file[\"seven\"] = df_input_file[\"seven\"].map(lambda x: str(x)[1:])\n",
    "    print(\"remove the first character (English pound symbol) in column seven:\")\n",
    "    print(df_input_file)\n",
    "    print()\n",
    "    '''#df_input_file[\"eight\"].replace\n",
    "    (to_replace=dict(BMC=\"BioMed Central\",ACS=\"American Chemical Society\",BPS=\"Biophysical Society\",CJS=\"Cadmus Journal Services\"),inplace=True)\n",
    "    print(\"substitute the abbreviation in column eight:\")\n",
    "    print(df_input_file)\n",
    "    print()#'''\n",
    "    x = df_input_file.drop(labels=\"eight\", axis=1)\n",
    "    print(\"x: labels by dropping column eight:\")\n",
    "    print(x)\n",
    "    print()\n",
    "    x = df_input_file.iloc[:, 0:6].values\n",
    "    print(\"x: labels selection by using index location method ilo():\")\n",
    "    print(x)\n",
    "    print()\n",
    "    y = df_input_file[\"eight\"]\n",
    "    print(\"y: target selection by column eight:\")\n",
    "    print(y)\n",
    "    print()\n",
    "    y = df_input_file.iloc[:,  7].values\n",
    "    print(\"y: target selection by using index location method ilo():\")\n",
    "    print(y)\n",
    "    print()\n",
    "    df_input_file.to_csv(output_file_path, encoding=\"latin1\")\n",
    "    print(\"the output file has been created successfully:\")\n",
    "    print(output_file_path)\n",
    "    print()\n",
    "if __name__ == '__main__': main()\n",
    "input_file_path = \"input_data.csv\"\n",
    "output_file_path = \"output_data.csv\""
   ]
  },
  {
   "cell_type": "code",
   "execution_count": 18,
   "id": "1683ac94",
   "metadata": {},
   "outputs": [
    {
     "name": "stdout",
     "output_type": "stream",
     "text": [
      "Empty File Created Successfully\n"
     ]
    }
   ],
   "source": [
    "with open('output.csv', 'w') as creating_new_csv_file: \n",
    "    pass \n",
    "print(\"Empty File Created Successfully\")"
   ]
  },
  {
   "cell_type": "code",
   "execution_count": null,
   "id": "45755c0f",
   "metadata": {},
   "outputs": [],
   "source": []
  }
 ],
 "metadata": {
  "kernelspec": {
   "display_name": "Python 3 (ipykernel)",
   "language": "python",
   "name": "python3"
  },
  "language_info": {
   "codemirror_mode": {
    "name": "ipython",
    "version": 3
   },
   "file_extension": ".py",
   "mimetype": "text/x-python",
   "name": "python",
   "nbconvert_exporter": "python",
   "pygments_lexer": "ipython3",
   "version": "3.9.13"
  }
 },
 "nbformat": 4,
 "nbformat_minor": 5
}
