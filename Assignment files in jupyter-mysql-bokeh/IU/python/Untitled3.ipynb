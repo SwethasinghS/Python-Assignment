{
 "cells": [
  {
   "cell_type": "code",
   "execution_count": 7,
   "id": "c1278a57",
   "metadata": {},
   "outputs": [],
   "source": [
    "import sqlalchemy \n",
    "import pymysql\n",
    "import sqlalchemy as db\n",
    "def main():\n",
    "# get sqlalchemy and pymysql used libraries version \n",
    "    print(\"sqlalchemy: {}\".format(sqlalchemy. version )) \n",
    "    print(\"pymysql: {}\".format(pymysql. version ))\n",
    "# get engine object using pymysql driver for mysql\n",
    "    engine = db.create_engine(\"mysql+pymysql://swethabsingh24:24santoshgsA @localhost/movie\")\n",
    "# get connection object \n",
    "    connection = engine.connect() # get meta data object \n",
    "    meta_data = db.MetaData()\n",
    "# set actor creation script table\n",
    "    actor = db.Table( \"actor\", meta_data,\n",
    "    db.Column(\"id\", db.Integer, primary_key=True, autoincrement=True, nullable=False),\n",
    "    db.Column(\"first_name\", db.String(50), nullable=False), \n",
    "    db.Column(\"last_name\", db.String(50), nullable=False), \n",
    "    db.Column(\"age\", db.Integer, nullable=False), \n",
    "    db.Column(\"date_of_birth\", db.Date, nullable=False), \n",
    "    db.Column(\"active\", db.Boolean, nullable=False))\n",
    "# create actor table and stores the information in metadata\n",
    "    meta_data.create_all(engine)\n",
    "if __name__ == ' main ': main()"
   ]
  },
  {
   "cell_type": "code",
   "execution_count": null,
   "id": "48c5327d",
   "metadata": {},
   "outputs": [],
   "source": []
  },
  {
   "cell_type": "code",
   "execution_count": null,
   "id": "111fca40",
   "metadata": {},
   "outputs": [],
   "source": []
  },
  {
   "cell_type": "code",
   "execution_count": null,
   "id": "1ded7004",
   "metadata": {},
   "outputs": [],
   "source": []
  },
  {
   "cell_type": "code",
   "execution_count": null,
   "id": "16fb01eb",
   "metadata": {},
   "outputs": [],
   "source": []
  }
 ],
 "metadata": {
  "kernelspec": {
   "display_name": "Python 3 (ipykernel)",
   "language": "python",
   "name": "python3"
  },
  "language_info": {
   "codemirror_mode": {
    "name": "ipython",
    "version": 3
   },
   "file_extension": ".py",
   "mimetype": "text/x-python",
   "name": "python",
   "nbconvert_exporter": "python",
   "pygments_lexer": "ipython3",
   "version": "3.9.13"
  }
 },
 "nbformat": 4,
 "nbformat_minor": 5
}
