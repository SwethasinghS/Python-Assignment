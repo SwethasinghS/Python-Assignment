{
 "cells": [
  {
   "cell_type": "code",
   "execution_count": 6,
   "id": "b120acea",
   "metadata": {},
   "outputs": [
    {
     "name": "stdout",
     "output_type": "stream",
     "text": [
      "          Category             City        Country    Customer Name  Discount  \\\n",
      "0        Furniture        Henderson  United States      Claire Gute      0.00   \n",
      "1        Furniture        Henderson  United States      Claire Gute      0.00   \n",
      "2  Office Supplies      Los Angeles  United States  Darrin Van Huff      0.00   \n",
      "3        Furniture  Fort Lauderdale  United States   Sean O'Donnell      0.45   \n",
      "4  Office Supplies  Fort Lauderdale  United States   Sean O'Donnell      0.20   \n",
      "\n",
      "   Number of Records  Order Date        Order ID  Postal Code Manufacturer  \\\n",
      "0                  1   11/8/2017  CA-2017-152156      42420.0         Bush   \n",
      "1                  1   11/8/2017  CA-2017-152156      42420.0          Hon   \n",
      "2                  1   6/12/2017  CA-2017-138688      90036.0    Universal   \n",
      "3                  1  10/11/2016  US-2016-108966      33311.0     Bretford   \n",
      "4                  1  10/11/2016  US-2016-108966      33311.0        Eldon   \n",
      "\n",
      "                                        Product Name    Profit  Quantity  \\\n",
      "0                  Bush Somerset Collection Bookcase   41.9136         2   \n",
      "1  Hon Deluxe Fabric Upholstered Stacking Chairs,...  219.5820         3   \n",
      "2  Self-Adhesive Address Labels for Typewriters b...    6.8714         2   \n",
      "3      Bretford CR4500 Series Slim Rectangular Table -383.0310         5   \n",
      "4                     Eldon Fold 'N Roll Cart System    2.5164         2   \n",
      "\n",
      "  Region     Sales    Segment   Ship Date       Ship Mode       State  \\\n",
      "0  South  261.9600   Consumer  11/11/2017    Second Class    Kentucky   \n",
      "1  South  731.9400   Consumer  11/11/2017    Second Class    Kentucky   \n",
      "2   West   14.6200  Corporate   6/16/2017    Second Class  California   \n",
      "3  South  957.5775   Consumer  10/18/2016  Standard Class     Florida   \n",
      "4  South   22.3680   Consumer  10/18/2016  Standard Class     Florida   \n",
      "\n",
      "  Sub-Category  \n",
      "0    Bookcases  \n",
      "1       Chairs  \n",
      "2       Labels  \n",
      "3       Tables  \n",
      "4      Storage  \n"
     ]
    }
   ],
   "source": [
    "import os\n",
    "import sys\n",
    "import datetime\n",
    "import pandas as pd\n",
    "import numpy as np\n",
    "data = pd.read_csv('superstore.csv')\n",
    "print (data.head())"
   ]
  },
  {
   "cell_type": "code",
   "execution_count": null,
   "id": "0054f805",
   "metadata": {},
   "outputs": [],
   "source": []
  },
  {
   "cell_type": "code",
   "execution_count": null,
   "id": "7f658fe2",
   "metadata": {},
   "outputs": [],
   "source": []
  }
 ],
 "metadata": {
  "kernelspec": {
   "display_name": "Python 3 (ipykernel)",
   "language": "python",
   "name": "python3"
  },
  "language_info": {
   "codemirror_mode": {
    "name": "ipython",
    "version": 3
   },
   "file_extension": ".py",
   "mimetype": "text/x-python",
   "name": "python",
   "nbconvert_exporter": "python",
   "pygments_lexer": "ipython3",
   "version": "3.9.13"
  }
 },
 "nbformat": 4,
 "nbformat_minor": 5
}
