{
 "cells": [
  {
   "cell_type": "code",
   "execution_count": 1,
   "id": "20e5cfcd",
   "metadata": {},
   "outputs": [
    {
     "name": "stdout",
     "output_type": "stream",
     "text": [
      "sum calculation: 4999999950000000.0\n",
      "program runtime: 00:00:01\n"
     ]
    }
   ],
   "source": [
    "import time\n",
    "from numba import jit\n",
    "import numpy as np\n",
    "@jit(nopython=True)\n",
    "def sum2dimensional(np_array):\n",
    "    array_rows, array_columns = np_array.shape\n",
    "    result = 0.0\n",
    "    for i in range(array_rows):\n",
    "        for j in range(array_columns):\n",
    "            result += np_array[i,j]\n",
    "    return result\n",
    "def main():\n",
    "    np_array = np.arange(100000000).reshape(10000, 10000)\n",
    "    print(\"sum calculation: {}\".format(sum2dimensional(np_array)))\n",
    "if __name__ == '__main__':\n",
    "    start_time = time.process_time()\n",
    "    main()\n",
    "    end_time = time.process_time()\n",
    "    diff_time = end_time - start_time\n",
    "    result = time.strftime(\"%H:%M:%S\", time.gmtime(diff_time))\n",
    "    print(\"program runtime: {}\".format(result))"
   ]
  }
 ],
 "metadata": {
  "kernelspec": {
   "display_name": "Python 3 (ipykernel)",
   "language": "python",
   "name": "python3"
  },
  "language_info": {
   "codemirror_mode": {
    "name": "ipython",
    "version": 3
   },
   "file_extension": ".py",
   "mimetype": "text/x-python",
   "name": "python",
   "nbconvert_exporter": "python",
   "pygments_lexer": "ipython3",
   "version": "3.9.13"
  }
 },
 "nbformat": 4,
 "nbformat_minor": 5
}
