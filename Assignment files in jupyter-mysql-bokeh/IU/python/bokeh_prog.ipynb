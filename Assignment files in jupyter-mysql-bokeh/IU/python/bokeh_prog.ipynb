{
 "cells": [
  {
   "cell_type": "code",
   "execution_count": 1,
   "id": "19e3e2f0",
   "metadata": {},
   "outputs": [
    {
     "name": "stderr",
     "output_type": "stream",
     "text": [
      "BokehDeprecationWarning: 'legend' keyword is deprecated, use explicit 'legend_label', 'legend_field', or 'legend_group' keywords instead\n",
      "BokehDeprecationWarning: 'legend' keyword is deprecated, use explicit 'legend_label', 'legend_field', or 'legend_group' keywords instead\n",
      "BokehDeprecationWarning: 'legend' keyword is deprecated, use explicit 'legend_label', 'legend_field', or 'legend_group' keywords instead\n",
      "BokehDeprecationWarning: 'legend' keyword is deprecated, use explicit 'legend_label', 'legend_field', or 'legend_group' keywords instead\n"
     ]
    }
   ],
   "source": [
    "import numpy as np\n",
    "from bokeh.plotting import figure, output_file, show\n",
    "from bokeh.sampledata.iris import flowers\n",
    "def main():\n",
    "    # line plot example\n",
    "    x = [1, 2, 3, 4, 5]\n",
    "    y = [5, 6, 1, 3, 4]\n",
    "    output_file(\"line_example.html\")\n",
    "    plot = figure(title=\"Line Plot\", x_axis_label=\"x axis\",\n",
    "    y_axis_label=\"y axis\")\n",
    "    plot.line(x, y, legend=\"line example\", line_width=2)\n",
    "    show(plot)\n",
    "    # cos(x) function example\n",
    "    output_file(\"cosx_example.html\")\n",
    "    x = np.linspace(-6, 6, 100)\n",
    "    y = np.cos(x)\n",
    "    plot = figure(width=500, height=500, title=\"Cos(x) Plot\",\n",
    "    x_axis_label=\"x axis\", y_axis_label=\"y axis\")\n",
    "    plot.circle(x, y, size=7, color=\"firebrick\", alpha=0.5,\n",
    "    legend=\"cos(x) example\")\n",
    "    show(plot)\n",
    "    # bar chart example\n",
    "    output_file(\"barchart_example.html\")\n",
    "    teams = [\"A\", \"B\", \"C\", \"D\", \"E\", \"F\"]\n",
    "    plot = figure(x_range=teams, height=500, title=\"Bar Chart Plot\",\n",
    "    x_axis_label=\"teams\", y_axis_label=\"values\")\n",
    "    plot.vbar(x=teams, top=[4, 2, 3, 1, 3, 5], width=0.6,\n",
    "    legend=\"bar chart example\")\n",
    "    show(plot)\n",
    "    # iris flowers scatter example\n",
    "    output_file(\"iris_scatter_example.html\")\n",
    "    colormap = {\"setosa\":\"orange\", \"versicolor\":\"blue\", \"virginica\":\"gray\"}\n",
    "    colors = [colormap[x] for x in flowers['species']]\n",
    "    plot = figure(title = \"Iris Flowers Scatter Plot\", x_axis_label=\n",
    "    \"petal length\", y_axis_label=\"petal width\")\n",
    "    plot.circle(flowers[\"petal_length\"], flowers[\"petal_width\"],\n",
    "    color=colors,\n",
    "    fill_alpha=0.2, size=10, legend=\"scatter plot example\")\n",
    "    show(plot)\n",
    "if __name__ == '__main__': main()"
   ]
  },
  {
   "cell_type": "code",
   "execution_count": null,
   "id": "bf49364d",
   "metadata": {},
   "outputs": [],
   "source": []
  }
 ],
 "metadata": {
  "kernelspec": {
   "display_name": "Python 3 (ipykernel)",
   "language": "python",
   "name": "python3"
  },
  "language_info": {
   "codemirror_mode": {
    "name": "ipython",
    "version": 3
   },
   "file_extension": ".py",
   "mimetype": "text/x-python",
   "name": "python",
   "nbconvert_exporter": "python",
   "pygments_lexer": "ipython3",
   "version": "3.9.13"
  }
 },
 "nbformat": 4,
 "nbformat_minor": 5
}
