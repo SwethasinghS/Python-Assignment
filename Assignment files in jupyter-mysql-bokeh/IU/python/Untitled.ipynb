{
 "cells": [
  {
   "cell_type": "code",
   "execution_count": 1,
   "id": "01e5f8f6",
   "metadata": {},
   "outputs": [
    {
     "ename": "SyntaxError",
     "evalue": "invalid syntax (3018562636.py, line 1)",
     "output_type": "error",
     "traceback": [
      "\u001b[0;36m  File \u001b[0;32m\"/var/folders/sx/ctj9r67x4gq00zhbkkt8f72c0000gn/T/ipykernel_7975/3018562636.py\"\u001b[0;36m, line \u001b[0;32m1\u001b[0m\n\u001b[0;31m    def scope_testing(): def Local_scope():\u001b[0m\n\u001b[0m                         ^\u001b[0m\n\u001b[0;31mSyntaxError\u001b[0m\u001b[0;31m:\u001b[0m invalid syntax\n"
     ]
    }
   ],
   "source": [
    "def scope_testing(): def Local_scope():"
   ]
  },
  {
   "cell_type": "code",
   "execution_count": null,
   "id": "8cc81cb5",
   "metadata": {},
   "outputs": [],
   "source": [
    "spam = \"local spam defined\" "
   ]
  },
  {
   "cell_type": "code",
   "execution_count": null,
   "id": "f6e12a19",
   "metadata": {},
   "outputs": [],
   "source": [
    "def nonlocal_scope():nonlocal spam"
   ]
  },
  {
   "cell_type": "code",
   "execution_count": null,
   "id": "0ce2019d",
   "metadata": {},
   "outputs": [],
   "source": [
    "spam = \"nonlocal spam defined\""
   ]
  },
  {
   "cell_type": "code",
   "execution_count": null,
   "id": "581d66d0",
   "metadata": {},
   "outputs": [],
   "source": [
    "def global_scope(): global spam"
   ]
  },
  {
   "cell_type": "code",
   "execution_count": null,
   "id": "93d329b8",
   "metadata": {},
   "outputs": [],
   "source": [
    "spam = \"global spam defined\""
   ]
  },
  {
   "cell_type": "code",
   "execution_count": null,
   "id": "aa1481d6",
   "metadata": {},
   "outputs": [],
   "source": [
    "spam = \"testing the spam\" "
   ]
  },
  {
   "cell_type": "code",
   "execution_count": null,
   "id": "22ba8844",
   "metadata": {},
   "outputs": [],
   "source": [
    "local_scope()"
   ]
  },
  {
   "cell_type": "code",
   "execution_count": null,
   "id": "085bf487",
   "metadata": {},
   "outputs": [],
   "source": [
    "print(\"After local scope test:\", spam) nonlocal_scope()\n",
    "print(\"After nonlocal scope test:\", spam) global_scope()\n",
    "print(\"After global scope test:\", spam)"
   ]
  },
  {
   "cell_type": "code",
   "execution_count": null,
   "id": "0011b8ae",
   "metadata": {},
   "outputs": [],
   "source": [
    "def main(): scope_testing()"
   ]
  },
  {
   "cell_type": "code",
   "execution_count": null,
   "id": "16ad6284",
   "metadata": {},
   "outputs": [],
   "source": [
    "print(\"In global scope:\", spam)"
   ]
  },
  {
   "cell_type": "code",
   "execution_count": null,
   "id": "a2c57224",
   "metadata": {},
   "outputs": [],
   "source": [
    "if __name__ == '_main_': main()"
   ]
  },
  {
   "cell_type": "code",
   "execution_count": 2,
   "id": "27b7d2f9",
   "metadata": {},
   "outputs": [
    {
     "data": {
      "text/plain": [
       "'1.4.39'"
      ]
     },
     "execution_count": 2,
     "metadata": {},
     "output_type": "execute_result"
    }
   ],
   "source": [
    "import sqlalchemy\n",
    "sqlalchemy.__version__"
   ]
  },
  {
   "cell_type": "code",
   "execution_count": null,
   "id": "934525f5",
   "metadata": {},
   "outputs": [],
   "source": []
  }
 ],
 "metadata": {
  "kernelspec": {
   "display_name": "Python 3 (ipykernel)",
   "language": "python",
   "name": "python3"
  },
  "language_info": {
   "codemirror_mode": {
    "name": "ipython",
    "version": 3
   },
   "file_extension": ".py",
   "mimetype": "text/x-python",
   "name": "python",
   "nbconvert_exporter": "python",
   "pygments_lexer": "ipython3",
   "version": "3.9.13"
  }
 },
 "nbformat": 4,
 "nbformat_minor": 5
}
