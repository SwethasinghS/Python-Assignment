{
 "cells": [
  {
   "cell_type": "code",
   "execution_count": 28,
   "id": "9ed0b88d",
   "metadata": {},
   "outputs": [],
   "source": [
    "from bokeh.plotting import figure, show\n",
    "from bokeh.models import ColumnDataSource\n",
    "import pandas as pd\n",
    "df = pd.read_csv(\"test_cal.csv\")\n",
    "source = ColumnDataSource(df)\n",
    "# Line Chart \n",
    "p = figure(title=\"Line Chart\", x_axis_label='X-Axis', y_axis_label='Y-Axis',)\n",
    "p.line(x='x', y='y', source=source)\n",
    "show(p)\n",
    "\n",
    "# Bar Chart\n",
    "source1 = ColumnDataSource(df)\n",
    "p = figure(title=\"Bar Chart\", x_axis_label='X-Axis', y_axis_label='Y-Axis')\n",
    "p.vbar(x='x', top='y', source=source1, width=0.5)\n",
    "show(p)\n",
    "\n",
    "# Scatter Chart\n",
    "source2 = ColumnDataSource(df)\n",
    "p = figure(title=\"Scatter Chart\", x_axis_label='X-Axis', y_axis_label='Y-Axis')\n",
    "p.scatter(x='x', y='y', source=source2,color='red')\n",
    "show(p)"
   ]
  },
  {
   "cell_type": "code",
   "execution_count": null,
   "id": "2ecf9634",
   "metadata": {},
   "outputs": [],
   "source": []
  }
 ],
 "metadata": {
  "kernelspec": {
   "display_name": "Python 3 (ipykernel)",
   "language": "python",
   "name": "python3"
  },
  "language_info": {
   "codemirror_mode": {
    "name": "ipython",
    "version": 3
   },
   "file_extension": ".py",
   "mimetype": "text/x-python",
   "name": "python",
   "nbconvert_exporter": "python",
   "pygments_lexer": "ipython3",
   "version": "3.9.13"
  }
 },
 "nbformat": 4,
 "nbformat_minor": 5
}
