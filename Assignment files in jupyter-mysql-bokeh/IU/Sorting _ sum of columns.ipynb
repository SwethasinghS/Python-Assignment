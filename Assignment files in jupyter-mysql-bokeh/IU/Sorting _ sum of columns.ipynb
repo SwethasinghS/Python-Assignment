{
 "cells": [
  {
   "cell_type": "code",
   "execution_count": 5,
   "id": "a58f28c8",
   "metadata": {},
   "outputs": [
    {
     "data": {
      "text/plain": [
       "x     -2.000000e+01\n",
       "y1     1.962869e+02\n",
       "y2     2.037131e+02\n",
       "y3     4.017803e+04\n",
       "y4     1.038615e+04\n",
       "y5     4.017803e+04\n",
       "y6     1.962869e+02\n",
       "y7     2.091218e+02\n",
       "y8     2.059602e+02\n",
       "y9     8.148526e+02\n",
       "y10    2.525052e+04\n",
       "y11    5.333400e+04\n",
       "y12    4.813660e+05\n",
       "y13    2.237360e+05\n",
       "y14    5.333400e+04\n",
       "y15    1.699350e+04\n",
       "y16    1.280053e+07\n",
       "y17    1.280053e+07\n",
       "y18    5.120213e+07\n",
       "y19    1.390721e+07\n",
       "y20    1.561481e+07\n",
       "y21    3.657463e+09\n",
       "y22    3.657463e+09\n",
       "y23    3.657463e+09\n",
       "y24    1.462985e+10\n",
       "y25    3.291694e+10\n",
       "y26    4.398637e+09\n",
       "y27    4.478004e+09\n",
       "y28    3.683117e+09\n",
       "y29    3.663863e+09\n",
       "y30    3.720328e+09\n",
       "y31    5.333400e+04\n",
       "y32    4.000000e+03\n",
       "y33    5.533400e+04\n",
       "y34    3.490831e+02\n",
       "y35    1.333400e+04\n",
       "y36    1.333350e+06\n",
       "y37    5.333400e+04\n",
       "y38    4.007451e+02\n",
       "y39    1.280000e+07\n",
       "y40    4.918199e+07\n",
       "y41    2.130954e+05\n",
       "y42    2.134033e+05\n",
       "y43    2.809982e+03\n",
       "y44    4.162329e-02\n",
       "y45    5.828089e+04\n",
       "y46    8.493048e+03\n",
       "y47    8.493048e+03\n",
       "y48    1.265322e+01\n",
       "y49    1.962869e+02\n",
       "dtype: float64"
      ]
     },
     "execution_count": 5,
     "metadata": {},
     "output_type": "execute_result"
    }
   ],
   "source": [
    "import pandas as pd\n",
    "import numpy as np\n",
    "id_min=pd.read_csv('C:/Users/Swetha/IU/ideal_update.csv')\n",
    "result1=id_min.sum()\n",
    "result1"
   ]
  },
  {
   "cell_type": "code",
   "execution_count": 6,
   "id": "85afa369",
   "metadata": {},
   "outputs": [
    {
     "data": {
      "text/plain": [
       "x      -20.000000\n",
       "y1     842.434493\n",
       "y2     435.555442\n",
       "y3    2883.396551\n",
       "y4    8499.958894\n",
       "dtype: float64"
      ]
     },
     "execution_count": 6,
     "metadata": {},
     "output_type": "execute_result"
    }
   ],
   "source": [
    "import pandas as pd\n",
    "import numpy as np\n",
    "tr_min=pd.read_csv('C:/Users/Swetha/IU/tr_update.csv')\n",
    "result=tr_min.sum()\n",
    "result"
   ]
  },
  {
   "cell_type": "code",
   "execution_count": 29,
   "id": "6bc4a335",
   "metadata": {},
   "outputs": [
    {
     "ename": "AttributeError",
     "evalue": "'Series' object has no attribute 'set_index'",
     "output_type": "error",
     "traceback": [
      "\u001b[1;31m---------------------------------------------------------------------------\u001b[0m",
      "\u001b[1;31mAttributeError\u001b[0m                            Traceback (most recent call last)",
      "\u001b[1;32m~\\AppData\\Local\\Temp\\ipykernel_12548\\1072104202.py\u001b[0m in \u001b[0;36m<module>\u001b[1;34m\u001b[0m\n\u001b[0;32m      3\u001b[0m \u001b[0mid_min\u001b[0m\u001b[1;33m=\u001b[0m\u001b[0mpd\u001b[0m\u001b[1;33m.\u001b[0m\u001b[0mread_csv\u001b[0m\u001b[1;33m(\u001b[0m\u001b[1;34m'C:/Users/Swetha/IU/ideal_update.csv'\u001b[0m\u001b[1;33m)\u001b[0m\u001b[1;33m\u001b[0m\u001b[1;33m\u001b[0m\u001b[0m\n\u001b[0;32m      4\u001b[0m \u001b[0mresult1\u001b[0m\u001b[1;33m=\u001b[0m\u001b[0mid_min\u001b[0m\u001b[1;33m.\u001b[0m\u001b[0msum\u001b[0m\u001b[1;33m(\u001b[0m\u001b[1;33m)\u001b[0m\u001b[1;33m\u001b[0m\u001b[1;33m\u001b[0m\u001b[0m\n\u001b[1;32m----> 5\u001b[1;33m \u001b[0mresult1\u001b[0m\u001b[1;33m.\u001b[0m\u001b[0mset_index\u001b[0m\u001b[1;33m(\u001b[0m\u001b[1;34m'column'\u001b[0m\u001b[1;33m)\u001b[0m\u001b[1;33m\u001b[0m\u001b[1;33m\u001b[0m\u001b[0m\n\u001b[0m",
      "\u001b[1;32mD:\\anaconda3\\lib\\site-packages\\pandas\\core\\generic.py\u001b[0m in \u001b[0;36m__getattr__\u001b[1;34m(self, name)\u001b[0m\n\u001b[0;32m   5573\u001b[0m         ):\n\u001b[0;32m   5574\u001b[0m             \u001b[1;32mreturn\u001b[0m \u001b[0mself\u001b[0m\u001b[1;33m[\u001b[0m\u001b[0mname\u001b[0m\u001b[1;33m]\u001b[0m\u001b[1;33m\u001b[0m\u001b[1;33m\u001b[0m\u001b[0m\n\u001b[1;32m-> 5575\u001b[1;33m         \u001b[1;32mreturn\u001b[0m \u001b[0mobject\u001b[0m\u001b[1;33m.\u001b[0m\u001b[0m__getattribute__\u001b[0m\u001b[1;33m(\u001b[0m\u001b[0mself\u001b[0m\u001b[1;33m,\u001b[0m \u001b[0mname\u001b[0m\u001b[1;33m)\u001b[0m\u001b[1;33m\u001b[0m\u001b[1;33m\u001b[0m\u001b[0m\n\u001b[0m\u001b[0;32m   5576\u001b[0m \u001b[1;33m\u001b[0m\u001b[0m\n\u001b[0;32m   5577\u001b[0m     \u001b[1;32mdef\u001b[0m \u001b[0m__setattr__\u001b[0m\u001b[1;33m(\u001b[0m\u001b[0mself\u001b[0m\u001b[1;33m,\u001b[0m \u001b[0mname\u001b[0m\u001b[1;33m:\u001b[0m \u001b[0mstr\u001b[0m\u001b[1;33m,\u001b[0m \u001b[0mvalue\u001b[0m\u001b[1;33m)\u001b[0m \u001b[1;33m->\u001b[0m \u001b[1;32mNone\u001b[0m\u001b[1;33m:\u001b[0m\u001b[1;33m\u001b[0m\u001b[1;33m\u001b[0m\u001b[0m\n",
      "\u001b[1;31mAttributeError\u001b[0m: 'Series' object has no attribute 'set_index'"
     ]
    }
   ],
   "source": [
    "import pandas as pd\n",
    "import numpy as np\n",
    "id_min=pd.read_csv('C:/Users/Swetha/IU/ideal_update.csv')\n",
    "result1=id_min.sum()\n",
    "result1.set_index('column')"
   ]
  },
  {
   "cell_type": "code",
   "execution_count": null,
   "id": "89961f0f",
   "metadata": {},
   "outputs": [],
   "source": []
  }
 ],
 "metadata": {
  "kernelspec": {
   "display_name": "Python 3 (ipykernel)",
   "language": "python",
   "name": "python3"
  },
  "language_info": {
   "codemirror_mode": {
    "name": "ipython",
    "version": 3
   },
   "file_extension": ".py",
   "mimetype": "text/x-python",
   "name": "python",
   "nbconvert_exporter": "python",
   "pygments_lexer": "ipython3",
   "version": "3.9.13"
  }
 },
 "nbformat": 4,
 "nbformat_minor": 5
}
